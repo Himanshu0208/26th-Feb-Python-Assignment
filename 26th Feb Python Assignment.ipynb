{
 "cells": [
  {
   "cell_type": "code",
   "execution_count": 1,
   "id": "e4151174-208c-4069-9fed-022879fe24ce",
   "metadata": {},
   "outputs": [],
   "source": [
    "import numpy as np\n",
    "list_ = [ '1' , '2' , '3' , '4' , '5' ]\n",
    "array_list = np.array(object = list_)"
   ]
  },
  {
   "cell_type": "markdown",
   "id": "8ee1529d-51d0-4121-85e5-6e60a8ffe140",
   "metadata": {},
   "source": [
    "## __Ques 1__\n",
    "variable list is diffrent form array list , varialble list is a object of class list while array list is a object of class numpy.ndarray"
   ]
  },
  {
   "cell_type": "code",
   "execution_count": 2,
   "id": "f324b6ec-13b1-4e88-b785-ad231e4d9bec",
   "metadata": {},
   "outputs": [
    {
     "name": "stdout",
     "output_type": "stream",
     "text": [
      "<class 'list'>\n",
      "<class 'numpy.ndarray'>\n"
     ]
    }
   ],
   "source": [
    "print(type(list_))\n",
    "print(type(array_list))"
   ]
  },
  {
   "cell_type": "markdown",
   "id": "60207d50-7d6f-4848-8a96-72e0387bdc49",
   "metadata": {},
   "source": [
    "## __Ques 2__"
   ]
  },
  {
   "cell_type": "code",
   "execution_count": 3,
   "id": "07c0e563-9bfc-4904-b076-154aa62e7472",
   "metadata": {},
   "outputs": [
    {
     "name": "stdout",
     "output_type": "stream",
     "text": [
      "list_elements are  ['1', '2', '3', '4', '5']\n",
      "array_list elemnts are  ['1' '2' '3' '4' '5']\n"
     ]
    }
   ],
   "source": [
    "print('list_elements are ' , list_)\n",
    "print('array_list elemnts are ' , array_list)"
   ]
  },
  {
   "cell_type": "markdown",
   "id": "6fa054cb-cdc5-4f0d-a3c3-86978764c917",
   "metadata": {},
   "source": [
    "## __Ques 3__\n",
    "Yes there is a diffrence between teh data types of the two lists as we had give dtype=int so no the data type of the array_list is numpy.int64"
   ]
  },
  {
   "cell_type": "code",
   "execution_count": 4,
   "id": "23e46fd4-95fb-47ea-aae7-725c7673c8b6",
   "metadata": {},
   "outputs": [],
   "source": [
    "array_list = np.array(object = list_, dtype = int)"
   ]
  },
  {
   "cell_type": "code",
   "execution_count": 5,
   "id": "75e6ee7b-6fac-4770-b1f5-6cf7d7157187",
   "metadata": {},
   "outputs": [
    {
     "name": "stdout",
     "output_type": "stream",
     "text": [
      "list_ elements\n",
      "<class 'str'>\n",
      "<class 'str'>\n",
      "<class 'str'>\n",
      "<class 'str'>\n",
      "<class 'str'>\n",
      "\n",
      "array_list elements\n",
      "<class 'numpy.int64'>\n",
      "<class 'numpy.int64'>\n",
      "<class 'numpy.int64'>\n",
      "<class 'numpy.int64'>\n",
      "<class 'numpy.int64'>\n"
     ]
    }
   ],
   "source": [
    "print('list_ elements')\n",
    "for i in list_:\n",
    "    print(type(i))\n",
    "    \n",
    "print(\"\\narray_list elements\")\n",
    "for i in array_list:\n",
    "    print(type(i))"
   ]
  },
  {
   "cell_type": "markdown",
   "id": "2a45033e-4208-4255-b66e-77783e545074",
   "metadata": {},
   "source": [
    "## __Ques 4__"
   ]
  },
  {
   "cell_type": "code",
   "execution_count": 6,
   "id": "a820a794-f883-4e0e-9b09-a06addfbfaca",
   "metadata": {},
   "outputs": [],
   "source": [
    "import numpy as np\n",
    "num_list = [ [ 1 , 2 , 3 ] , [ 4 , 5 , 6 ] ]\n",
    "num_array = np.array(object = num_list)"
   ]
  },
  {
   "cell_type": "code",
   "execution_count": 9,
   "id": "872cdcf0-4277-4aa6-ac64-8c9367a1a91e",
   "metadata": {},
   "outputs": [
    {
     "name": "stdout",
     "output_type": "stream",
     "text": [
      "num_array shape (2, 3)\n",
      "num_array size 6\n"
     ]
    }
   ],
   "source": [
    "print('num_array shape',num_array.shape)\n",
    "print('num_array size',num_array.size)"
   ]
  },
  {
   "cell_type": "code",
   "execution_count": 12,
   "id": "1d6525b6-9c85-4574-bda9-9f1b360b49d2",
   "metadata": {},
   "outputs": [
    {
     "name": "stdout",
     "output_type": "stream",
     "text": [
      "'list' object has no attribute 'size'\n",
      "'list' object has no attribute 'shape'\n"
     ]
    }
   ],
   "source": [
    "\n",
    "try :\n",
    "    print('num_list size',num_list.size)\n",
    "except AttributeError as e:\n",
    "    print(e)\n",
    "    \n",
    "try :\n",
    "    print('num_list shape',num_list.shape)\n",
    "except AttributeError as e:\n",
    "    print(e)"
   ]
  },
  {
   "cell_type": "code",
   "execution_count": 13,
   "id": "0d8dd706-2c26-4fc4-a238-82edd504a807",
   "metadata": {},
   "outputs": [],
   "source": [
    "zero = np.zeros((3,3))"
   ]
  },
  {
   "cell_type": "code",
   "execution_count": 14,
   "id": "095ef7a2-784a-4416-b35f-b03315038e11",
   "metadata": {},
   "outputs": [
    {
     "data": {
      "text/plain": [
       "array([[0., 0., 0.],\n",
       "       [0., 0., 0.],\n",
       "       [0., 0., 0.]])"
      ]
     },
     "execution_count": 14,
     "metadata": {},
     "output_type": "execute_result"
    }
   ],
   "source": [
    "zero"
   ]
  },
  {
   "cell_type": "code",
   "execution_count": 18,
   "id": "aff0cc33-15a8-43a0-ad88-9209e851797c",
   "metadata": {},
   "outputs": [
    {
     "data": {
      "text/plain": [
       "(3, 3)"
      ]
     },
     "execution_count": 18,
     "metadata": {},
     "output_type": "execute_result"
    }
   ],
   "source": [
    "zero.shape"
   ]
  },
  {
   "cell_type": "code",
   "execution_count": 19,
   "id": "10a1cded-ef84-4286-a34a-0fc1160dbb3d",
   "metadata": {},
   "outputs": [
    {
     "data": {
      "text/plain": [
       "9"
      ]
     },
     "execution_count": 19,
     "metadata": {},
     "output_type": "execute_result"
    }
   ],
   "source": [
    "zero.size"
   ]
  },
  {
   "cell_type": "code",
   "execution_count": 16,
   "id": "f58b5be0-d46a-4a84-916c-a90a7e27d9f3",
   "metadata": {},
   "outputs": [],
   "source": [
    "identity = np.identity(5)"
   ]
  },
  {
   "cell_type": "code",
   "execution_count": 17,
   "id": "f188956a-7abe-4fea-b97e-38019b77252e",
   "metadata": {},
   "outputs": [
    {
     "data": {
      "text/plain": [
       "array([[1., 0., 0., 0., 0.],\n",
       "       [0., 1., 0., 0., 0.],\n",
       "       [0., 0., 1., 0., 0.],\n",
       "       [0., 0., 0., 1., 0.],\n",
       "       [0., 0., 0., 0., 1.]])"
      ]
     },
     "execution_count": 17,
     "metadata": {},
     "output_type": "execute_result"
    }
   ],
   "source": [
    "identity"
   ]
  },
  {
   "cell_type": "code",
   "execution_count": 20,
   "id": "1e683b7f-836e-49fb-a35a-e209a395b870",
   "metadata": {},
   "outputs": [
    {
     "data": {
      "text/plain": [
       "(5, 5)"
      ]
     },
     "execution_count": 20,
     "metadata": {},
     "output_type": "execute_result"
    }
   ],
   "source": [
    "identity.shape"
   ]
  },
  {
   "cell_type": "code",
   "execution_count": 21,
   "id": "0360660d-76da-4c0d-8380-63c53edbf2b4",
   "metadata": {},
   "outputs": [
    {
     "data": {
      "text/plain": [
       "25"
      ]
     },
     "execution_count": 21,
     "metadata": {},
     "output_type": "execute_result"
    }
   ],
   "source": [
    "identity.size"
   ]
  }
 ],
 "metadata": {
  "kernelspec": {
   "display_name": "Python 3 (ipykernel)",
   "language": "python",
   "name": "python3"
  },
  "language_info": {
   "codemirror_mode": {
    "name": "ipython",
    "version": 3
   },
   "file_extension": ".py",
   "mimetype": "text/x-python",
   "name": "python",
   "nbconvert_exporter": "python",
   "pygments_lexer": "ipython3",
   "version": "3.10.8"
  }
 },
 "nbformat": 4,
 "nbformat_minor": 5
}
